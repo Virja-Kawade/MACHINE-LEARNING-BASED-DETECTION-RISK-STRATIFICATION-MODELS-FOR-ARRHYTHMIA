{
 "cells": [
  {
   "cell_type": "code",
   "execution_count": 1,
   "id": "36d144ce",
   "metadata": {},
   "outputs": [
    {
     "name": "stdout",
     "output_type": "stream",
     "text": [
      " Volume in drive D is VAK\n",
      " Volume Serial Number is 145A-46F3\n",
      "\n",
      " Directory of D:\\Internship\\1b. Heart Disease Prediction V3\\ECG_Classification_Pytorch\n",
      "\n",
      "04/26/2023  03:33 PM         2,348,699 (PPT) The Application of Deep Convolutional Networks for the Classification of ECG Signal.pdf\n",
      "05/28/2023  07:53 PM    <DIR>          .\n",
      "05/28/2023  07:53 PM    <DIR>          ..\n",
      "05/28/2023  07:53 PM    <DIR>          .ipynb_checkpoints\n",
      "05/04/2023  10:11 AM    <DIR>          __pycache__\n",
      "04/26/2023  03:33 PM           609,740 An Application of Deep Convolutional Networks for the Classification of ECG Signal.pdf\n",
      "05/28/2023  07:39 PM         1,895,271 ECG_notebook v2.ipynb\n",
      "05/24/2023  04:25 PM         2,760,423 ECG_notebook.ipynb\n",
      "04/26/2023  03:33 PM            14,845 heartbeat.py\n",
      "04/26/2023  03:33 PM    <DIR>          images\n",
      "04/28/2023  12:41 PM    <DIR>          mit_data\n",
      "04/28/2023  12:40 PM    <DIR>          mit_data_reduced\n",
      "04/27/2023  02:26 PM       150,909,058 mit_data-20230427T085810Z-001.zip\n",
      "05/04/2023  10:05 AM    <DIR>          New folder\n",
      "04/28/2023  01:38 PM             6,189 New Microsoft Excel Worksheet.xlsx\n",
      "04/28/2023  12:37 PM             7,020 normalizer.py\n",
      "04/26/2023  03:33 PM             3,158 README.md\n",
      "05/06/2023  11:45 AM    <DIR>          Test\n",
      "05/28/2023  07:53 PM                72 Test.ipynb\n",
      "04/26/2023  03:33 PM            13,683 torch_tools.py\n",
      "05/24/2023  04:00 PM       322,358,688 X_resamped.csv\n",
      "05/24/2023  04:00 PM         2,579,109 y.csv\n",
      "              13 File(s)    483,505,955 bytes\n",
      "               9 Dir(s)  891,443,625,984 bytes free\n"
     ]
    }
   ],
   "source": [
    "ls"
   ]
  },
  {
   "cell_type": "code",
   "execution_count": 2,
   "id": "9806ecd0",
   "metadata": {},
   "outputs": [
    {
     "name": "stdout",
     "output_type": "stream",
     "text": [
      "D:\\Internship\\1b. Heart Disease Prediction V3\\ECG_Classification_Pytorch\\mit_data\n"
     ]
    }
   ],
   "source": [
    "%cd mit_data"
   ]
  },
  {
   "cell_type": "code",
   "execution_count": 5,
   "id": "d1c3d1a8",
   "metadata": {},
   "outputs": [
    {
     "name": "stderr",
     "output_type": "stream",
     "text": [
      "IOPub data rate exceeded.\n",
      "The notebook server will temporarily stop sending output\n",
      "to the client in order to avoid crashing it.\n",
      "To change this limit, set the config variable\n",
      "`--NotebookApp.iopub_data_rate_limit`.\n",
      "\n",
      "Current values:\n",
      "NotebookApp.iopub_data_rate_limit=1000000.0 (bytes/sec)\n",
      "NotebookApp.rate_limit_window=3.0 (secs)\n",
      "\n"
     ]
    }
   ],
   "source": [
    "import matplotlib.pyplot as plt\n",
    "import csv\n",
    "\n",
    "# Read the ECG signals and annotations into memory.\n",
    "with open('100.csv', 'r') as f:\n",
    "    reader = csv.reader(f)\n",
    "    data = list(reader)\n",
    "\n",
    "with open('100annotations.txt', 'r') as f:\n",
    "    annotations = f.readlines()"
   ]
  },
  {
   "cell_type": "code",
   "execution_count": 6,
   "id": "5e6a327c",
   "metadata": {},
   "outputs": [
    {
     "name": "stdout",
     "output_type": "stream",
     "text": [
      "[[\"'sample #'\", \"'MLII'\", \"'V5'\"], ['0', '995', '1011'], ['1', '995', '1011'], ['2', '995', '1011'], ['3', '995', '1011'], ['4', '995', '1011'], ['5', '995', '1011'], ['6', '995', '1011'], ['7', '995', '1011'], ['8', '1000', '1008'], ['9', '997', '1008'], ['10', '995', '1007'], ['11', '994', '1007'], ['12', '992', '1009'], ['13', '993', '1010'], ['14', '992', '1010'], ['15', '989', '1011'], ['16', '988', '1013'], ['17', '987', '1014'], ['18', '990', '1014']]\n"
     ]
    }
   ],
   "source": [
    "print(data[:20])"
   ]
  },
  {
   "cell_type": "code",
   "execution_count": 8,
   "id": "5678542c",
   "metadata": {},
   "outputs": [
    {
     "name": "stdout",
     "output_type": "stream",
     "text": [
      "['      Time   Sample #  Type  Sub Chan  Num\\tAux\\n', '    0:00.050       18     +    0    0    0\\t(N\\n', '    0:00.214       77     N    0    0    0\\n', '    0:01.028      370     N    0    0    0\\n', '    0:01.839      662     N    0    0    0\\n', '    0:02.628      946     N    0    0    0\\n', '    0:03.419     1231     N    0    0    0\\n', '    0:04.208     1515     N    0    0    0\\n', '    0:05.025     1809     N    0    0    0\\n', '    0:05.678     2044     A    0    0    0\\n', '    0:06.672     2402     N    0    0    0\\n', '    0:07.517     2706     N    0    0    0\\n', '    0:08.328     2998     N    0    0    0\\n', '    0:09.117     3282     N    0    0    0\\n', '    0:09.889     3560     N    0    0    0\\n', '    0:10.728     3862     N    0    0    0\\n', '    0:11.583     4170     N    0    0    0\\n', '    0:12.406     4466     N    0    0    0\\n', '    0:13.233     4764     N    0    0    0\\n', '    0:14.056     5060     N    0    0    0\\n']\n"
     ]
    }
   ],
   "source": [
    "print(annotations[:20])"
   ]
  },
  {
   "cell_type": "code",
   "execution_count": null,
   "id": "5823ae3c",
   "metadata": {},
   "outputs": [],
   "source": [
    "# Match the annotations to the corresponding ECG signals.\n",
    "for i, annotation in enumerate(annotations):\n",
    "    annotation = annotation.strip()\n",
    "    data[i].append(annotation)\n",
    "\n",
    "# Plot the ECG signals with the annotations.\n",
    "plt.plot(data)\n",
    "for i, annotation in enumerate(annotations):\n",
    "    plt.annotate(annotation, xy=(i, data[i][-1]), xytext=(i, data[i][-1] + 0.5), textcoords='offset points', ha='center', va='bottom')\n",
    "\n",
    "plt.show()"
   ]
  }
 ],
 "metadata": {
  "kernelspec": {
   "display_name": "Python 3 (ipykernel)",
   "language": "python",
   "name": "python3"
  },
  "language_info": {
   "codemirror_mode": {
    "name": "ipython",
    "version": 3
   },
   "file_extension": ".py",
   "mimetype": "text/x-python",
   "name": "python",
   "nbconvert_exporter": "python",
   "pygments_lexer": "ipython3",
   "version": "3.9.12"
  }
 },
 "nbformat": 4,
 "nbformat_minor": 5
}
